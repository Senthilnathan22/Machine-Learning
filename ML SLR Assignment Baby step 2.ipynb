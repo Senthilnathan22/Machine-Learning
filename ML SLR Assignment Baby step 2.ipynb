{
 "cells": [
  {
   "cell_type": "code",
   "execution_count": null,
   "id": "1a1575ab-82f0-4368-9904-c4399673c4d0",
   "metadata": {},
   "outputs": [],
   "source": [
    "# panda is pre-defined library and we are importing that library to work on table data, we have given short name to that library for the frequent purpose\n",
    "import panda as pd"
   ]
  },
  {
   "cell_type": "code",
   "execution_count": null,
   "id": "e8fbc011-77c5-4d2b-9e55-ae4b0af20557",
   "metadata": {},
   "outputs": [],
   "source": [
    "#reading data file form source\n",
    "dataset=pd.read_csv(\"Salary_Data.scv\")"
   ]
  },
  {
   "cell_type": "code",
   "execution_count": null,
   "id": "bf52e138-7df9-4b82-8d1f-a8b1e718d296",
   "metadata": {},
   "outputs": [],
   "source": [
    "#to check the output\n",
    "dataset"
   ]
  },
  {
   "cell_type": "code",
   "execution_count": null,
   "id": "6e5d1ca9-50e7-41f5-baea-cbaf3bdf081a",
   "metadata": {},
   "outputs": [],
   "source": [
    "#Input split, seperating particular column from dataset and assigned it to variable\n",
    "Independent=dataset[[\"YearsExperience\"]]"
   ]
  },
  {
   "cell_type": "code",
   "execution_count": null,
   "id": "a857474d-85ac-4374-9cd9-f2955c191061",
   "metadata": {},
   "outputs": [],
   "source": [
    "# To check the variable output\n",
    "Independent"
   ]
  },
  {
   "cell_type": "code",
   "execution_count": null,
   "id": "4844f8cb-9b9d-46e8-9e61-e5a8d18ae630",
   "metadata": {},
   "outputs": [],
   "source": [
    "# Output split, seperating particular column from dataset and assigned it to variable \n",
    "Dependent=dataset[[\"Salary\"]]"
   ]
  },
  {
   "cell_type": "code",
   "execution_count": null,
   "id": "3cad3e35-9252-4995-8a88-3d8cabf33d16",
   "metadata": {},
   "outputs": [],
   "source": [
    "# TO check the variable output\n",
    "Dependent"
   ]
  },
  {
   "cell_type": "code",
   "execution_count": null,
   "id": "7906a3bb-fe36-4988-8e62-bf9f8637ff6b",
   "metadata": {},
   "outputs": [],
   "source": [
    "#importing particular library from particular model and selecting train test split\n",
    "from sklearn.model_selection import train_test_split"
   ]
  },
  {
   "cell_type": "code",
   "execution_count": null,
   "id": "c16fe48e-1e95-4ed5-a8d9-774df2947454",
   "metadata": {},
   "outputs": [],
   "source": [
    "# seperated training set and test set using below format\n",
    "# test size is given to take an average on data for testing purpose.\n",
    "# Mentioning X-input and Y-output\n",
    "x_train,x_test,y_train,y_test=train_test_split(Independent, Dependent, test_size=0.30, random_state=0)"
   ]
  },
  {
   "cell_type": "code",
   "execution_count": null,
   "id": "5e7fa5eb-3e6f-4689-9446-bceb76745fa6",
   "metadata": {},
   "outputs": [],
   "source": [
    "#importing particular library from particular model\n",
    "# creating variable and assigning the class to that variable so further process will be assigned and used to that variable\n",
    "#using .fit to subsitute the formula by passing input and output training parameters\n",
    "# now the weight and bais is calculated so model got reday\n",
    "from sklearn.linear_model import LinearRegression\n",
    "regressor=LinearRegression()\n",
    "regressor.fit(x_train,y_train)"
   ]
  },
  {
   "cell_type": "code",
   "execution_count": null,
   "id": "381e5b51-c0c1-43f1-a4fc-e442c361f8fe",
   "metadata": {},
   "outputs": [],
   "source": [
    "# to check the weight\n",
    "weight=regressor.coef_\n",
    "weight"
   ]
  },
  {
   "cell_type": "code",
   "execution_count": null,
   "id": "c004fd33-4b0d-4d7b-a0f7-92014c8e92ab",
   "metadata": {},
   "outputs": [],
   "source": [
    "# to check the bais\n",
    "bais=regressor.Intercept_\n",
    "bais"
   ]
  },
  {
   "cell_type": "code",
   "execution_count": null,
   "id": "3f852534-8506-4429-9955-430855a61935",
   "metadata": {},
   "outputs": [],
   "source": [
    "#.predict to predict with given test data and that saved in the created variable\n",
    "y_pred=regressor.predict(x_test)"
   ]
  },
  {
   "cell_type": "code",
   "execution_count": null,
   "id": "35df5c93-19c3-48cf-a93d-698c078be225",
   "metadata": {},
   "outputs": [],
   "source": [
    "#importing particular library from particular model\n",
    "from sklearn.metrics import r2_score\n",
    "#comparing predict data with actual data\n",
    "r_score=r2_score(y_test,y_pred)\n",
    "# to check the metrics\n",
    "r_score"
   ]
  },
  {
   "cell_type": "code",
   "execution_count": null,
   "id": "636efc03-b121-4bbf-9abc-910844be0638",
   "metadata": {},
   "outputs": [],
   "source": [
    "# save the model\n",
    "#importing libararies\n",
    "import pickle\n",
    "# creating a file with extension\n",
    "filename=\"finalized _model_linear.sav\""
   ]
  },
  {
   "cell_type": "code",
   "execution_count": null,
   "id": "c2495ddd-bc92-4f34-a347-8de2a2daa59a",
   "metadata": {},
   "outputs": [],
   "source": [
    "# commanding to write binary form regressor to filename\n",
    "# now the model has been saved\n",
    "pickle.dump(regressor,open(filename,'wb'))"
   ]
  },
  {
   "cell_type": "code",
   "execution_count": null,
   "id": "4fd9ae5d-088b-40b3-85fc-c036ad6a433a",
   "metadata": {},
   "outputs": [],
   "source": [
    "# To load the model, give the file name with extension and use rb to read\n",
    "load_model=pickle.load(open(\"finalized_model_linear.sav\",'rb')\n",
    "# to check the result\n",
    "result =loaded_model.predict([[15]])\n",
    "result"
   ]
  }
 ],
 "metadata": {
  "kernelspec": {
   "display_name": "Python 3 (ipykernel)",
   "language": "python",
   "name": "python3"
  },
  "language_info": {
   "codemirror_mode": {
    "name": "ipython",
    "version": 3
   },
   "file_extension": ".py",
   "mimetype": "text/x-python",
   "name": "python",
   "nbconvert_exporter": "python",
   "pygments_lexer": "ipython3",
   "version": "3.12.7"
  }
 },
 "nbformat": 4,
 "nbformat_minor": 5
}
